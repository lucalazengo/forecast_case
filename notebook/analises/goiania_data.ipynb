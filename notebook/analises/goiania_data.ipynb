{
 "cells": [
  {
   "cell_type": "code",
   "execution_count": 2,
   "id": "020aca89",
   "metadata": {},
   "outputs": [
    {
     "name": "stdout",
     "output_type": "stream",
     "text": [
      "Versão da linguagem Python usada no ambiente virtual desse projeto: 3.12.7\n"
     ]
    }
   ],
   "source": [
    "#versão da Linguagem Python\n",
    "from platform import python_version\n",
    "print('Versão da linguagem Python usada no ambiente virtual desse projeto:', python_version())"
   ]
  },
  {
   "cell_type": "code",
   "execution_count": 3,
   "id": "0ca6c5e3",
   "metadata": {},
   "outputs": [],
   "source": [
    "# --- 1. CONFIGURAÇÃO DO AMBIENTE ---\n",
    "\n",
    "# Importação de bibliotecas padrão\n",
    "import pandas as pd\n",
    "import numpy as np\n",
    "import os\n",
    "import sys\n",
    "from statsmodels.tsa.api import SARIMAX\n",
    "from sklearn.metrics import mean_absolute_error, mean_squared_error\n",
    "import matplotlib.pyplot as plt\n",
    "import seaborn as sns\n",
    "from statsmodels.tsa.seasonal import seasonal_decompose\n",
    "from statsmodels.tsa.stattools import adfuller\n",
    "from statsmodels.graphics.tsaplots import plot_acf, plot_pacf\n",
    "\n",
    "# Configurações de visualização para os gráficos\n",
    "sns.set_style('whitegrid')\n",
    "plt.rcParams['figure.figsize'] = (18, 7)\n",
    "plt.rcParams['font.size'] = 12"
   ]
  },
  {
   "cell_type": "code",
   "execution_count": null,
   "id": "2ebc4ddc",
   "metadata": {},
   "outputs": [
    {
     "data": {
      "text/plain": [
       "(2018396, 11)"
      ]
     },
     "execution_count": 4,
     "metadata": {},
     "output_type": "execute_result"
    }
   ],
   "source": [
    "df = pd.read_csv(r\"C:\\Users\\mlzengo\\Documents\\TJGO\\II SEMESTRE\\forecast_case\\data\\processed\\dados_comarca_goiania.csv\")\n",
    "df.shape"
   ]
  },
  {
   "cell_type": "code",
   "execution_count": 8,
   "id": "3409c91d",
   "metadata": {},
   "outputs": [
    {
     "data": {
      "text/plain": [
       "Index(['NUMERO', 'DATA_RECEBIMENTO', 'PRIORIDADE', 'SEGREDO_JUSTICA',\n",
       "       'SERVENTIA', 'COMARCA', 'CLASSE', 'ASSUNTOS', 'PROC_STATUS',\n",
       "       'AREA_ACAO', 'VALOR_CAUSA'],\n",
       "      dtype='object')"
      ]
     },
     "execution_count": 8,
     "metadata": {},
     "output_type": "execute_result"
    }
   ],
   "source": [
    "df.columns"
   ]
  },
  {
   "cell_type": "code",
   "execution_count": null,
   "id": "571b7a26",
   "metadata": {},
   "outputs": [
    {
     "name": "stdout",
     "output_type": "stream",
     "text": [
      "Iniciando a segmentação por Área de Ação para a comarca de Goiânia...\n",
      "✅ Coluna 'AREA_ACAO' limpa e padronizada.\n",
      "\n",
      "--- Processando Área Cível ---\n",
      "Total de registros encontrados para a área Cível em Goiânia: 1708710\n",
      "✅ Arquivo Cível de Goiânia salvo com sucesso em: C:\\Users\\mlzengo\\Documents\\TJGO\\II SEMESTRE\\forecast_case\\data\\processed\\dados_goiania_civel.csv\n",
      "\n",
      "--- Processando Área Criminal ---\n",
      "Total de registros encontrados para a área Criminal em Goiânia: 309686\n",
      "✅ Arquivo Criminal de Goiânia salvo com sucesso em: C:\\Users\\mlzengo\\Documents\\TJGO\\II SEMESTRE\\forecast_case\\data\\processed\\dados_goiania_criminal.csv\n"
     ]
    }
   ],
   "source": [
    "# --- SEGMENTAÇÃO POR ÁREA DE AÇÃO (DADOS DE GOIÂNIA) ---\n",
    "\n",
    "# Verificando se o DataFrame 'df' existe\n",
    "if 'df' not in locals() or df.empty:\n",
    "    print(\"⚠️ ERRO: O DataFrame 'df' não foi encontrado. Por favor, execute a célula que carrega o arquivo CSV de Goiânia primeiro.\")\n",
    "else:\n",
    "    print(\"Iniciando a segmentação por Área de Ação para a comarca de Goiânia...\")\n",
    "\n",
    "    # 1. Limpeza e Padronização da Coluna 'AREA_ACAO' no DataFrame 'df'\n",
    "    try:\n",
    "        df['AREA_ACAO'] = df['AREA_ACAO'].astype(str).str.strip().str.upper()\n",
    "        print(\"✅ Coluna 'AREA_ACAO' limpa e padronizada.\")\n",
    "    except Exception as e:\n",
    "        print(f\"⚠️ Erro ao tentar limpar a coluna 'AREA_ACAO': {e}\")\n",
    "\n",
    "\n",
    "    # --- Segmento Cível ---\n",
    "    print(\"\\n--- Processando Área Cível ---\")\n",
    "    # 2. Filtrar o DataFrame 'df' para conter apenas registros da área 'CÍVEL'\n",
    "    df_goiania_civel = df[df['AREA_ACAO'] == 'CÍVEL'].copy()\n",
    "    total_registros_civel = len(df_goiania_civel)\n",
    "    print(f\"Total de registros encontrados para a área Cível em Goiânia: {total_registros_civel}\")\n",
    "\n",
    "    # 3. Salvar o arquivo CSV para a área Cível de Goiânia\n",
    "    if total_registros_civel > 0:\n",
    "        # Definindo o caminho de saída\n",
    "        output_dir = r\"C:\\Users\\mlzengo\\Documents\\TJGO\\II SEMESTRE\\forecast_case\\data\\processed\"\n",
    "        os.makedirs(output_dir, exist_ok=True)\n",
    "        caminho_saida_civel = os.path.join(output_dir, \"dados_goiania_civel.csv\")\n",
    "        \n",
    "        df_goiania_civel.to_csv(caminho_saida_civel, index=False, encoding='utf-8')\n",
    "        print(f\"✅ Arquivo Cível de Goiânia salvo com sucesso em: {caminho_saida_civel}\")\n",
    "    else:\n",
    "        print(\"⚠️ Nenhum registro encontrado para a área Cível em Goiânia.\")\n",
    "\n",
    "\n",
    "    # --- Segmento Criminal ---\n",
    "    print(\"\\n--- Processando Área Criminal ---\")\n",
    "    # 4. Filtrar o DataFrame 'df' para conter apenas registros da área 'CRIMINAL'\n",
    "    df_goiania_criminal = df[df['AREA_ACAO'] == 'CRIMINAL'].copy()\n",
    "    total_registros_criminal = len(df_goiania_criminal)\n",
    "    print(f\"Total de registros encontrados para a área Criminal em Goiânia: {total_registros_criminal}\")\n",
    "\n",
    "    # 5. Salvar o arquivo CSV para a área Criminal de Goiânia\n",
    "    if total_registros_criminal > 0:\n",
    "        output_dir = r\"C:\\Users\\mlzengo\\Documents\\TJGO\\II SEMESTRE\\forecast_case\\data\\processed\"\n",
    "        os.makedirs(output_dir, exist_ok=True)\n",
    "        caminho_saida_criminal = os.path.join(output_dir, \"dados_goiania_criminal.csv\")\n",
    "        \n",
    "        df_goiania_criminal.to_csv(caminho_saida_criminal, index=False, encoding='utf-8')\n",
    "        print(f\"✅ Arquivo Criminal de Goiânia salvo com sucesso em: {caminho_saida_criminal}\")\n",
    "    else:\n",
    "        print(\"⚠️ Nenhum registro encontrado para a área Criminal em Goiânia.\")"
   ]
  }
 ],
 "metadata": {
  "kernelspec": {
   "display_name": ".venv",
   "language": "python",
   "name": "python3"
  },
  "language_info": {
   "codemirror_mode": {
    "name": "ipython",
    "version": 3
   },
   "file_extension": ".py",
   "mimetype": "text/x-python",
   "name": "python",
   "nbconvert_exporter": "python",
   "pygments_lexer": "ipython3",
   "version": "3.12.7"
  }
 },
 "nbformat": 4,
 "nbformat_minor": 5
}
